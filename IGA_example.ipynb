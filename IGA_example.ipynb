{
 "cells": [
  {
   "cell_type": "markdown",
   "metadata": {},
   "source": [
    "This notebook provides an example code for using the IGA2D class"
   ]
  },
  {
   "cell_type": "code",
   "execution_count": 1,
   "metadata": {
    "collapsed": false
   },
   "outputs": [],
   "source": [
    "from IGA import IGA2D\n",
    "import numpy as np\n",
    "import matplotlib.pyplot as plt\n",
    "%matplotlib inline"
   ]
  },
  {
   "cell_type": "code",
   "execution_count": 2,
   "metadata": {
    "collapsed": false
   },
   "outputs": [
    {
     "name": "stdout",
     "output_type": "stream",
     "text": [
      "[[[ 0.66666667 -0.16666667 -0.16666667 -0.33333333]\n",
      "  [-0.16666667  0.66666667 -0.33333333 -0.16666667]\n",
      "  [-0.16666667 -0.33333333  0.66666667 -0.16666667]\n",
      "  [-0.33333333 -0.16666667 -0.16666667  0.66666667]]\n",
      "\n",
      " [[ 0.66666667 -0.16666667 -0.16666667 -0.33333333]\n",
      "  [-0.16666667  0.66666667 -0.33333333 -0.16666667]\n",
      "  [-0.16666667 -0.33333333  0.66666667 -0.16666667]\n",
      "  [-0.33333333 -0.16666667 -0.16666667  0.66666667]]\n",
      "\n",
      " [[ 0.66666667 -0.16666667 -0.16666667 -0.33333333]\n",
      "  [-0.16666667  0.66666667 -0.33333333 -0.16666667]\n",
      "  [-0.16666667 -0.33333333  0.66666667 -0.16666667]\n",
      "  [-0.33333333 -0.16666667 -0.16666667  0.66666667]]\n",
      "\n",
      " [[ 0.66666667 -0.16666667 -0.16666667 -0.33333333]\n",
      "  [-0.16666667  0.66666667 -0.33333333 -0.16666667]\n",
      "  [-0.16666667 -0.33333333  0.66666667 -0.16666667]\n",
      "  [-0.33333333 -0.16666667 -0.16666667  0.66666667]]\n",
      "\n",
      " [[ 0.66666667 -0.16666667 -0.16666667 -0.33333333]\n",
      "  [-0.16666667  0.66666667 -0.33333333 -0.16666667]\n",
      "  [-0.16666667 -0.33333333  0.66666667 -0.16666667]\n",
      "  [-0.33333333 -0.16666667 -0.16666667  0.66666667]]\n",
      "\n",
      " [[ 0.66666667 -0.16666667 -0.16666667 -0.33333333]\n",
      "  [-0.16666667  0.66666667 -0.33333333 -0.16666667]\n",
      "  [-0.16666667 -0.33333333  0.66666667 -0.16666667]\n",
      "  [-0.33333333 -0.16666667 -0.16666667  0.66666667]]]\n"
     ]
    },
    {
     "ename": "ValueError",
     "evalue": "array is not broadcastable to correct shape",
     "output_type": "error",
     "traceback": [
      "\u001b[0;31m---------------------------------------------------------------------------\u001b[0m",
      "\u001b[0;31mValueError\u001b[0m                                Traceback (most recent call last)",
      "\u001b[0;32m<ipython-input-2-6b4ca8c1fc79>\u001b[0m in \u001b[0;36m<module>\u001b[0;34m()\u001b[0m\n\u001b[1;32m      9\u001b[0m \u001b[0;34m\u001b[0m\u001b[0m\n\u001b[1;32m     10\u001b[0m \u001b[0;31m#Assemble stiffness matrix\u001b[0m\u001b[0;34m\u001b[0m\u001b[0;34m\u001b[0m\u001b[0m\n\u001b[0;32m---> 11\u001b[0;31m \u001b[0miga\u001b[0m\u001b[0;34m.\u001b[0m\u001b[0massemble\u001b[0m\u001b[0;34m(\u001b[0m\u001b[0;34m)\u001b[0m\u001b[0;34m\u001b[0m\u001b[0m\n\u001b[0m\u001b[1;32m     12\u001b[0m \u001b[0;34m\u001b[0m\u001b[0m\n\u001b[1;32m     13\u001b[0m \u001b[0;31m#Create a boundary condition node set and values for the top side\u001b[0m\u001b[0;34m\u001b[0m\u001b[0;34m\u001b[0m\u001b[0m\n",
      "\u001b[0;32m/Users/john/projects/Python/IGA/IGA.py\u001b[0m in \u001b[0;36massemble\u001b[0;34m(self)\u001b[0m\n\u001b[1;32m    398\u001b[0m             \u001b[0;31m#self.K[idx_grid]  += ke[i]\u001b[0m\u001b[0;34m\u001b[0m\u001b[0;34m\u001b[0m\u001b[0m\n\u001b[1;32m    399\u001b[0m         \u001b[0mindices\u001b[0m \u001b[0;34m=\u001b[0m \u001b[0;34m(\u001b[0m\u001b[0mself\u001b[0m\u001b[0;34m.\u001b[0m\u001b[0mconnectivity_array\u001b[0m\u001b[0;34m[\u001b[0m\u001b[0;34m:\u001b[0m\u001b[0;34m,\u001b[0m\u001b[0mNone\u001b[0m\u001b[0;34m]\u001b[0m \u001b[0;34m+\u001b[0m \u001b[0mself\u001b[0m\u001b[0;34m.\u001b[0m\u001b[0mK\u001b[0m\u001b[0;34m.\u001b[0m\u001b[0mshape\u001b[0m\u001b[0;34m[\u001b[0m\u001b[0;36m1\u001b[0m\u001b[0;34m]\u001b[0m \u001b[0;34m*\u001b[0m \u001b[0mself\u001b[0m\u001b[0;34m.\u001b[0m\u001b[0mconnectivity_array\u001b[0m\u001b[0;34m)\u001b[0m\u001b[0;34m.\u001b[0m\u001b[0mravel\u001b[0m\u001b[0;34m(\u001b[0m\u001b[0;34m'f'\u001b[0m\u001b[0;34m)\u001b[0m\u001b[0;34m\u001b[0m\u001b[0m\n\u001b[0;32m--> 400\u001b[0;31m         \u001b[0mnp\u001b[0m\u001b[0;34m.\u001b[0m\u001b[0madd\u001b[0m\u001b[0;34m.\u001b[0m\u001b[0mat\u001b[0m\u001b[0;34m(\u001b[0m\u001b[0mself\u001b[0m\u001b[0;34m.\u001b[0m\u001b[0mK\u001b[0m\u001b[0;34m.\u001b[0m\u001b[0mravel\u001b[0m\u001b[0;34m(\u001b[0m\u001b[0;34m)\u001b[0m\u001b[0;34m,\u001b[0m \u001b[0mindices\u001b[0m\u001b[0;34m,\u001b[0m \u001b[0mke\u001b[0m\u001b[0;34m.\u001b[0m\u001b[0mravel\u001b[0m\u001b[0;34m(\u001b[0m\u001b[0;34m)\u001b[0m\u001b[0;34m)\u001b[0m\u001b[0;34m\u001b[0m\u001b[0m\n\u001b[0m\u001b[1;32m    401\u001b[0m \u001b[0;34m\u001b[0m\u001b[0m\n\u001b[1;32m    402\u001b[0m     \u001b[0;32mdef\u001b[0m \u001b[0mapply_bcs\u001b[0m\u001b[0;34m(\u001b[0m\u001b[0mself\u001b[0m\u001b[0;34m,\u001b[0m \u001b[0mbasis_ids\u001b[0m\u001b[0;34m,\u001b[0m \u001b[0mvalues\u001b[0m\u001b[0;34m)\u001b[0m\u001b[0;34m:\u001b[0m\u001b[0;34m\u001b[0m\u001b[0m\n",
      "\u001b[0;31mValueError\u001b[0m: array is not broadcastable to correct shape"
     ]
    }
   ],
   "source": [
    "#Assign knot vectors, control points, and weights\n",
    "knot_vector1 = [0, 0, 1, 2, 3, 3]\n",
    "knot_vector2 = [0, 0, 1, 2, 2]\n",
    "control_points = np.array([[[0,0],[1,0],[2,0],[3,0]],[[0,1],[1,1],[2,1],[3,1]],[[0,2],[1,2],[2,2],[3,2]]], dtype=np.double)\n",
    "weights = np.ones_like(control_points[:,:,0])\n",
    "\n",
    "#Instantiate the problem\n",
    "iga = IGA2D(knot_vector1, 1, knot_vector2, 1, control_points, weights)\n",
    "\n",
    "#Assemble stiffness matrix\n",
    "iga.assemble()\n",
    "\n",
    "#Create a boundary condition node set and values for the top side\n",
    "ns1 = np.array([8, 9, 10, 11], dtype=np.int64)\n",
    "val1 = np.cos(np.pi * np.array([0., 1., 2., 3.]) / 6.) * 100\n",
    "\n",
    "#Create a boundary condition node set for the right side\n",
    "ns2 = np.array([3, 7, 11], dtype=np.int64)\n",
    "val2 = np.zeros(len(ns2))\n",
    "\n",
    "#Apply boundary conditions\n",
    "iga.apply_bcs(ns1,val1)\n",
    "iga.apply_bcs(ns2,val2)\n",
    "\n",
    "#Solve\n",
    "iga.solve()\n",
    "\n",
    "#Show solution\n",
    "iga.get_solution()"
   ]
  },
  {
   "cell_type": "code",
   "execution_count": null,
   "metadata": {
    "collapsed": false
   },
   "outputs": [],
   "source": [
    "#Plot\n",
    "iga.plot_solution()"
   ]
  },
  {
   "cell_type": "markdown",
   "metadata": {},
   "source": [
    "We can compare this result to the finite element example result [here](http://nbviewer.ipython.org/github/johnfoster-pge-utexas/PGE383-AdvGeomechanics/blob/master/files/assignment5_solution.ipynb)"
   ]
  },
  {
   "cell_type": "code",
   "execution_count": null,
   "metadata": {
    "collapsed": false
   },
   "outputs": [],
   "source": [
    "iga.connectivity_array"
   ]
  },
  {
   "cell_type": "code",
   "execution_count": null,
   "metadata": {
    "collapsed": true
   },
   "outputs": [],
   "source": [
    "indices = iga.connectivity_array[:,None]# + K.shape[1]*idx).ravel('f')"
   ]
  },
  {
   "cell_type": "code",
   "execution_count": 5,
   "metadata": {
    "collapsed": false
   },
   "outputs": [],
   "source": [
    "indices = (iga.connectivity_array[:,None] + iga.K.shape[1] * iga.connectivity_array).ravel('f')\n",
    "#np.add.at(iga.K.ravel(), indices, iga.ke.ravel())"
   ]
  },
  {
   "cell_type": "code",
   "execution_count": 8,
   "metadata": {
    "collapsed": false
   },
   "outputs": [
    {
     "data": {
      "text/plain": [
       "array([[[ 5,  4,  1,  0]],\n",
       "\n",
       "       [[ 6,  5,  2,  1]],\n",
       "\n",
       "       [[ 7,  6,  3,  2]],\n",
       "\n",
       "       [[ 9,  8,  5,  4]],\n",
       "\n",
       "       [[10,  9,  6,  5]],\n",
       "\n",
       "       [[11, 10,  7,  6]]])"
      ]
     },
     "execution_count": 8,
     "metadata": {},
     "output_type": "execute_result"
    }
   ],
   "source": [
    "iga.connectivity_array[:,None]# + iga.K.shape[1] * iga.connectivity_array)"
   ]
  },
  {
   "cell_type": "code",
   "execution_count": 11,
   "metadata": {
    "collapsed": false
   },
   "outputs": [
    {
     "data": {
      "text/plain": [
       "array([[[ 65,  52,  13,   0],\n",
       "        [ 77,  64,  25,  12],\n",
       "        [ 89,  76,  37,  24],\n",
       "        [113, 100,  61,  48],\n",
       "        [125, 112,  73,  60],\n",
       "        [137, 124,  85,  72]],\n",
       "\n",
       "       [[ 66,  53,  14,   1],\n",
       "        [ 78,  65,  26,  13],\n",
       "        [ 90,  77,  38,  25],\n",
       "        [114, 101,  62,  49],\n",
       "        [126, 113,  74,  61],\n",
       "        [138, 125,  86,  73]],\n",
       "\n",
       "       [[ 67,  54,  15,   2],\n",
       "        [ 79,  66,  27,  14],\n",
       "        [ 91,  78,  39,  26],\n",
       "        [115, 102,  63,  50],\n",
       "        [127, 114,  75,  62],\n",
       "        [139, 126,  87,  74]],\n",
       "\n",
       "       [[ 69,  56,  17,   4],\n",
       "        [ 81,  68,  29,  16],\n",
       "        [ 93,  80,  41,  28],\n",
       "        [117, 104,  65,  52],\n",
       "        [129, 116,  77,  64],\n",
       "        [141, 128,  89,  76]],\n",
       "\n",
       "       [[ 70,  57,  18,   5],\n",
       "        [ 82,  69,  30,  17],\n",
       "        [ 94,  81,  42,  29],\n",
       "        [118, 105,  66,  53],\n",
       "        [130, 117,  78,  65],\n",
       "        [142, 129,  90,  77]],\n",
       "\n",
       "       [[ 71,  58,  19,   6],\n",
       "        [ 83,  70,  31,  18],\n",
       "        [ 95,  82,  43,  30],\n",
       "        [119, 106,  67,  54],\n",
       "        [131, 118,  79,  66],\n",
       "        [143, 130,  91,  78]]])"
      ]
     },
     "execution_count": 11,
     "metadata": {},
     "output_type": "execute_result"
    }
   ],
   "source": [
    "iga.connectivity_array[:,None] + iga.K.shape[1] * iga.connectivity_array"
   ]
  },
  {
   "cell_type": "code",
   "execution_count": null,
   "metadata": {
    "collapsed": true
   },
   "outputs": [],
   "source": []
  }
 ],
 "metadata": {
  "kernelspec": {
   "display_name": "Python 2",
   "language": "python",
   "name": "python2"
  },
  "language_info": {
   "codemirror_mode": {
    "name": "ipython",
    "version": 2
   },
   "file_extension": ".py",
   "mimetype": "text/x-python",
   "name": "python",
   "nbconvert_exporter": "python",
   "pygments_lexer": "ipython2",
   "version": "2.7.10"
  }
 },
 "nbformat": 4,
 "nbformat_minor": 0
}
