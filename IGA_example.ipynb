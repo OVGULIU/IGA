{
 "cells": [
  {
   "cell_type": "markdown",
   "metadata": {},
   "source": [
    "This notebook provides an example code for using the IGA2D class"
   ]
  },
  {
   "cell_type": "code",
   "execution_count": 4,
   "metadata": {
    "collapsed": false
   },
   "outputs": [],
   "source": [
    "from IGA import IGA2D\n",
    "import numpy as np\n",
    "import matplotlib.pyplot as plt\n",
    "%matplotlib inline"
   ]
  },
  {
   "cell_type": "code",
   "execution_count": 5,
   "metadata": {
    "collapsed": false
   },
   "outputs": [
    {
     "data": {
      "text/plain": [
       "array([  61.28417886,   53.07365574,   30.64208943,    0.        ,\n",
       "         70.29995898,   60.88155036,   35.14997949,    0.        ,\n",
       "        100.        ,   86.60254038,   50.        ,    0.        ])"
      ]
     },
     "execution_count": 5,
     "metadata": {},
     "output_type": "execute_result"
    }
   ],
   "source": [
    "#Assign knot vectors, control points, and weights\n",
    "knot_vector1 = [0, 0, 1, 2, 3, 3]\n",
    "knot_vector2 = [0, 0, 1, 2, 2]\n",
    "control_points = np.array([[[0,0],[1,0],[2,0],[3,0]],[[0,1],[1,1],[2,1],[3,1]],[[0,2],[1,2],[2,2],[3,2]]], dtype=np.double)\n",
    "weights = np.ones_like(control_points[:,:,0])\n",
    "\n",
    "#Instantiate the problem\n",
    "iga = IGA2D(knot_vector1, 1, knot_vector2, 1, control_points, weights)\n",
    "\n",
    "#Assemble stiffness matrix\n",
    "iga.assemble()\n",
    "\n",
    "#Create a boundary condition node set and values for the top side\n",
    "ns1 = np.array([8, 9, 10, 11], dtype=np.int64)\n",
    "val1 = np.cos(np.pi * np.array([0., 1., 2., 3.]) / 6.) * 100\n",
    "\n",
    "#Create a boundary condition node set for the right side\n",
    "ns2 = np.array([3, 7, 11], dtype=np.int64)\n",
    "val2 = np.zeros(len(ns2))\n",
    "\n",
    "#Apply boundary conditions\n",
    "iga.apply_bcs(ns1,val1)\n",
    "iga.apply_bcs(ns2,val2)\n",
    "\n",
    "#Solve\n",
    "iga.solve()\n",
    "\n",
    "#Show solution\n",
    "iga.get_solution()"
   ]
  },
  {
   "cell_type": "code",
   "execution_count": 6,
   "metadata": {
    "collapsed": false
   },
   "outputs": [
    {
     "data": {
      "image/png": "[encoded data removed]",
      "text/plain": [
       "<matplotlib.figure.Figure at 0x10fd57c90>"
      ]
     },
     "metadata": {},
     "output_type": "display_data"
    }
   ],
   "source": [
    "#Plot\n",
    "iga.plot_solution()"
   ]
  },
  {
   "cell_type": "markdown",
   "metadata": {},
   "source": [
    "We can compare this result to the finite element example result [here](http://nbviewer.ipython.org/github/johnfoster-pge-utexas/PGE383-AdvGeomechanics/blob/master/files/assignment5_solution.ipynb)"
   ]
  }
 ],
 "metadata": {
  "kernelspec": {
   "display_name": "Python 2",
   "language": "python",
   "name": "python2"
  },
  "language_info": {
   "codemirror_mode": {
    "name": "ipython",
    "version": 2
   },
   "file_extension": ".py",
   "mimetype": "text/x-python",
   "name": "python",
   "nbconvert_exporter": "python",
   "pygments_lexer": "ipython2",
   "version": "2.7.10"
  }
 },
 "nbformat": 4,
 "nbformat_minor": 0
}
