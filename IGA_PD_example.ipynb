{
 "cells": [
  {
   "cell_type": "markdown",
   "metadata": {},
   "source": [
    "This notebook provides an example code for using the IGA2D class"
   ]
  },
  {
   "cell_type": "code",
   "execution_count": 1,
   "metadata": {
    "collapsed": false
   },
   "outputs": [],
   "source": [
    "import IGA\n",
    "import numpy as np\n",
    "import matplotlib.pyplot as plt\n",
    "%matplotlib inline"
   ]
  },
  {
   "cell_type": "code",
   "execution_count": 2,
   "metadata": {
    "collapsed": false
   },
   "outputs": [],
   "source": [
    "def run_case_1(num_knots, order, delta, norm, quad_degree=10):\n",
    "\n",
    "    h = 1.0 / num_knots\n",
    "\n",
    "    if delta > h:\n",
    "        num_boundary_elements = np.ceil(delta / h)\n",
    "    else:\n",
    "        num_boundary_elements = 1\n",
    "\n",
    "    omega_p1 = np.linspace(-delta, 0, num=(num_boundary_elements + 1))\n",
    "    omega = np.linspace(0, 1, num=(num_knots+1))\n",
    "    omega_p2 = np.linspace(1, 1 + delta, num=(num_boundary_elements + 1))\n",
    "\n",
    "    knot_vector = np.r_[-delta * np.ones(order), omega_p1[:-1], omega[:-1], omega_p2, np.ones(order) * (1 + delta)]\n",
    "\n",
    "    iga = IGA.PD1D(knot_vector, order, delta)\n",
    "    iga.degree = quad_degree\n",
    "    \n",
    "    u = lambda x: x * (1 - x)\n",
    "    b = lambda x: np.ones(x.shape[0])\n",
    "\n",
    "    iga.compute_solutions(u, b, num_boundary_elements)\n",
    "    \n",
    "    return iga.compute_error(norm=norm)"
   ]
  },
  {
   "cell_type": "code",
   "execution_count": 3,
   "metadata": {
    "collapsed": false
   },
   "outputs": [
    {
     "name": "stdout",
     "output_type": "stream",
     "text": [
      "[[[ 0.          0.          0.         ...,  0.          0.          0.        ]\n",
      "  [ 0.95051129  0.04948871  0.         ...,  0.          0.          0.        ]\n",
      "  [ 0.          0.          0.91062503 ...,  0.          0.          0.        ]\n",
      "  [ 0.          0.          0.         ...,  0.          0.          0.        ]]\n",
      "\n",
      " [[ 0.          0.          0.         ...,  0.          0.          0.        ]\n",
      "  [ 0.68993365  0.31006635  0.         ...,  0.          0.          0.        ]\n",
      "  [ 0.          0.          0.65004739 ...,  0.          0.          0.        ]\n",
      "  [ 0.          0.          0.         ...,  0.          0.          0.        ]]\n",
      "\n",
      " [[ 0.          0.          0.         ...,  0.          0.          0.        ]\n",
      "  [ 0.34995261  0.65004739  0.         ...,  0.          0.          0.        ]\n",
      "  [ 0.          0.          0.31006635 ...,  0.          0.          0.        ]\n",
      "  [ 0.          0.          0.         ...,  0.          0.          0.        ]]\n",
      "\n",
      " ..., \n",
      " [[ 0.          0.          0.         ...,  0.          0.          0.        ]\n",
      "  [ 0.          0.          0.         ...,  0.31006635  0.          0.        ]\n",
      "  [ 0.          0.          0.         ...,  0.          0.65004739\n",
      "    0.34995261]\n",
      "  [ 0.          0.          0.         ...,  0.          0.          0.        ]]\n",
      "\n",
      " [[ 0.          0.          0.         ...,  0.          0.          0.        ]\n",
      "  [ 0.          0.          0.         ...,  0.65004739  0.          0.        ]\n",
      "  [ 0.          0.          0.         ...,  0.          0.31006635\n",
      "    0.68993365]\n",
      "  [ 0.          0.          0.         ...,  0.          0.          0.        ]]\n",
      "\n",
      " [[ 0.          0.          0.         ...,  0.          0.          0.        ]\n",
      "  [ 0.          0.          0.         ...,  0.91062503  0.          0.        ]\n",
      "  [ 0.          0.          0.         ...,  0.          0.04948871\n",
      "    0.95051129]\n",
      "  [ 0.          0.          0.         ...,  0.          0.          0.        ]]]\n",
      "[[[ 0.  0.  0. ...,  0.  0.  0.]\n",
      "  [ 0.  0.  0. ...,  0.  0.  0.]\n",
      "  [ 0.  0.  0. ...,  0.  0.  0.]\n",
      "  [ 0.  0.  0. ...,  0.  0.  0.]]\n",
      "\n",
      " [[ 0.  0.  0. ...,  0.  0.  0.]\n",
      "  [ 0.  0.  0. ...,  0.  0.  0.]\n",
      "  [ 0.  0.  0. ...,  0.  0.  0.]\n",
      "  [ 0.  0.  0. ...,  0.  0.  0.]]\n",
      "\n",
      " [[ 0.  0.  0. ...,  0.  0.  0.]\n",
      "  [ 0.  0.  0. ...,  0.  0.  0.]\n",
      "  [ 0.  0.  0. ...,  0.  0.  0.]\n",
      "  [ 0.  0.  0. ...,  0.  0.  0.]]\n",
      "\n",
      " ..., \n",
      " [[ 0.  0.  0. ...,  0.  0.  0.]\n",
      "  [ 0.  0.  0. ...,  0.  0.  0.]\n",
      "  [ 0.  0.  0. ...,  0.  0.  0.]\n",
      "  [ 0.  0.  0. ...,  0.  0.  0.]]\n",
      "\n",
      " [[ 0.  0.  0. ...,  0.  0.  0.]\n",
      "  [ 0.  0.  0. ...,  0.  0.  0.]\n",
      "  [ 0.  0.  0. ...,  0.  0.  0.]\n",
      "  [ 0.  0.  0. ...,  0.  0.  0.]]\n",
      "\n",
      " [[ 0.  0.  0. ...,  0.  0.  0.]\n",
      "  [ 0.  0.  0. ...,  0.  0.  0.]\n",
      "  [ 0.  0.  0. ...,  0.  0.  0.]\n",
      "  [ 0.  0.  0. ...,  0.  0.  0.]]]\n",
      "[[[ 0.  0.  0. ...,  0.  0.  0.]\n",
      "  [ 0.  0.  0. ...,  0.  0.  0.]\n",
      "  [ 0.  0.  0. ...,  0.  0.  0.]\n",
      "  [ 0.  0.  0. ...,  0.  0.  0.]]\n",
      "\n",
      " [[ 0.  0.  0. ...,  0.  0.  0.]\n",
      "  [ 0.  0.  0. ...,  0.  0.  0.]\n",
      "  [ 0.  0.  0. ...,  0.  0.  0.]\n",
      "  [ 0.  0.  0. ...,  0.  0.  0.]]\n",
      "\n",
      " [[ 0.  0.  0. ...,  0.  0.  0.]\n",
      "  [ 0.  0.  0. ...,  0.  0.  0.]\n",
      "  [ 0.  0.  0. ...,  0.  0.  0.]\n",
      "  [ 0.  0.  0. ...,  0.  0.  0.]]\n",
      "\n",
      " ..., \n",
      " [[ 0.  0.  0. ...,  0.  0.  0.]\n",
      "  [ 0.  0.  0. ...,  0.  0.  0.]\n",
      "  [ 0.  0.  0. ...,  0.  0.  0.]\n",
      "  [ 0.  0.  0. ...,  0.  0.  0.]]\n",
      "\n",
      " [[ 0.  0.  0. ...,  0.  0.  0.]\n",
      "  [ 0.  0.  0. ...,  0.  0.  0.]\n",
      "  [ 0.  0.  0. ...,  0.  0.  0.]\n",
      "  [ 0.  0.  0. ...,  0.  0.  0.]]\n",
      "\n",
      " [[ 0.  0.  0. ...,  0.  0.  0.]\n",
      "  [ 0.  0.  0. ...,  0.  0.  0.]\n",
      "  [ 0.  0.  0. ...,  0.  0.  0.]\n",
      "  [ 0.  0.  0. ...,  0.  0.  0.]]]\n",
      "[[[ 0.  0.  0. ...,  0.  0.  0.]\n",
      "  [ 0.  0.  0. ...,  0.  0.  0.]\n",
      "  [ 0.  0.  0. ...,  0.  0.  0.]\n",
      "  [ 0.  0.  0. ...,  0.  0.  0.]]\n",
      "\n",
      " [[ 0.  0.  0. ...,  0.  0.  0.]\n",
      "  [ 0.  0.  0. ...,  0.  0.  0.]\n",
      "  [ 0.  0.  0. ...,  0.  0.  0.]\n",
      "  [ 0.  0.  0. ...,  0.  0.  0.]]\n",
      "\n",
      " [[ 0.  0.  0. ...,  0.  0.  0.]\n",
      "  [ 0.  0.  0. ...,  0.  0.  0.]\n",
      "  [ 0.  0.  0. ...,  0.  0.  0.]\n",
      "  [ 0.  0.  0. ...,  0.  0.  0.]]\n",
      "\n",
      " ..., \n",
      " [[ 0.  0.  0. ...,  0.  0.  0.]\n",
      "  [ 0.  0.  0. ...,  0.  0.  0.]\n",
      "  [ 0.  0.  0. ...,  0.  0.  0.]\n",
      "  [ 0.  0.  0. ...,  0.  0.  0.]]\n",
      "\n",
      " [[ 0.  0.  0. ...,  0.  0.  0.]\n",
      "  [ 0.  0.  0. ...,  0.  0.  0.]\n",
      "  [ 0.  0.  0. ...,  0.  0.  0.]\n",
      "  [ 0.  0.  0. ...,  0.  0.  0.]]\n",
      "\n",
      " [[ 0.  0.  0. ...,  0.  0.  0.]\n",
      "  [ 0.  0.  0. ...,  0.  0.  0.]\n",
      "  [ 0.  0.  0. ...,  0.  0.  0.]\n",
      "  [ 0.  0.  0. ...,  0.  0.  0.]]]\n"
     ]
    }
   ],
   "source": [
    "dofs = np.array([10,60,100,200])\n",
    "errs = [ run_case_1(num_knots, order=1, delta=0.25, norm=2, quad_degree=4) for num_knots in dofs ]"
   ]
  },
  {
   "cell_type": "code",
   "execution_count": 4,
   "metadata": {
    "collapsed": false
   },
   "outputs": [
    {
     "data": {
      "image/png": "[encoded data removed]",
      "text/plain": [
       "<matplotlib.figure.Figure at 0x104ccd990>"
      ]
     },
     "metadata": {},
     "output_type": "display_data"
    }
   ],
   "source": [
    "#Fit a straight line\n",
    "coefs = np.polyfit(np.log10(1.0 / dofs), np.log10(errs), 1)\n",
    "y = 10 ** (coefs[0] * np.log10(1.0 / dofs) + coefs[1])\n",
    "#Plot\n",
    "plt.loglog(1.0 / dofs, y, 'b-')\n",
    "plt.loglog(1.0 / dofs, errs, 'b^')\n",
    "plt.xlabel(\"$\\log_{10} h$\")\n",
    "plt.ylabel(\"$\\log_{10} \\Vert Error \\Vert_{L_2}$\");"
   ]
  },
  {
   "cell_type": "code",
   "execution_count": 5,
   "metadata": {
    "collapsed": true
   },
   "outputs": [],
   "source": [
    "def run_case_2(num_knots, order, delta, norm, quad_degree=10):\n",
    "\n",
    "    h = 1.0 / num_knots\n",
    "\n",
    "    if delta > h:\n",
    "        num_boundary_elements = np.ceil(delta / h)\n",
    "    else:\n",
    "        num_boundary_elements = 1\n",
    "\n",
    "    omega_p1 = np.linspace(-delta, 0, num=(num_boundary_elements + 1))\n",
    "    omega = np.linspace(0, 1, num=(num_knots+1))\n",
    "    omega_p2 = np.linspace(1, 1 + delta, num=(num_boundary_elements + 1))\n",
    "\n",
    "    knot_vector = np.r_[-delta * np.ones(order), omega_p1[:-1], omega[:-1], omega_p2, np.ones(order) * (1 + delta)]\n",
    "\n",
    "    iga = IGA.PD1D(knot_vector, order, delta)\n",
    "    iga.degree = quad_degree\n",
    "    \n",
    "    u = lambda x: x * (1 - x)\n",
    "    b = lambda x: np.ones(x.shape[0])\n",
    "\n",
    "    iga.compute_solutions(u, b, num_boundary_elements)\n",
    "    \n",
    "    return iga"
   ]
  },
  {
   "cell_type": "code",
   "execution_count": 6,
   "metadata": {
    "collapsed": false
   },
   "outputs": [
    {
     "name": "stdout",
     "output_type": "stream",
     "text": [
      "[[[ 0.          0.          0.         ...,  0.          0.          0.        ]\n",
      "  [ 0.61053024  0.38946976  0.         ...,  0.          0.          0.        ]\n",
      "  [ 0.          0.25060607  0.74939393 ...,  0.          0.          0.        ]\n",
      "  [ 0.          0.          0.50518471 ...,  0.          0.          0.        ]]\n",
      "\n",
      " [[ 0.          0.          0.         ...,  0.          0.          0.        ]\n",
      "  [ 0.34995261  0.65004739  0.         ...,  0.          0.          0.        ]\n",
      "  [ 0.          0.          0.99376777 ...,  0.          0.          0.        ]\n",
      "  [ 0.          0.          0.34232369 ...,  0.          0.          0.        ]]\n",
      "\n",
      " [[ 0.          0.          0.         ...,  0.          0.          0.        ]\n",
      "  [ 0.00997157  0.99002843  0.         ...,  0.          0.          0.        ]\n",
      "  [ 0.          0.          0.78127962 ...,  0.          0.          0.        ]\n",
      "  [ 0.          0.          0.12983553 ...,  0.          0.          0.        ]]\n",
      "\n",
      " ..., \n",
      " [[ 0.          0.          0.         ...,  0.12983553  0.          0.        ]\n",
      "  [ 0.          0.          0.         ...,  0.78127962  0.          0.        ]\n",
      "  [ 0.          0.          0.         ...,  0.          0.99002843\n",
      "    0.00997157]\n",
      "  [ 0.          0.          0.         ...,  0.          0.          0.        ]]\n",
      "\n",
      " [[ 0.          0.          0.         ...,  0.34232369  0.          0.        ]\n",
      "  [ 0.          0.          0.         ...,  0.99376777  0.          0.        ]\n",
      "  [ 0.          0.          0.         ...,  0.          0.65004739\n",
      "    0.34995261]\n",
      "  [ 0.          0.          0.         ...,  0.          0.          0.        ]]\n",
      "\n",
      " [[ 0.          0.          0.         ...,  0.50518471  0.          0.        ]\n",
      "  [ 0.          0.          0.         ...,  0.74939393  0.25060607  0.        ]\n",
      "  [ 0.          0.          0.         ...,  0.          0.38946976\n",
      "    0.61053024]\n",
      "  [ 0.          0.          0.         ...,  0.          0.          0.        ]]]\n"
     ]
    }
   ],
   "source": [
    "iga2 = run_case_2(5, order=1, delta=0.25, norm=2, quad_degree=4)"
   ]
  },
  {
   "cell_type": "code",
   "execution_count": 7,
   "metadata": {
    "collapsed": false
   },
   "outputs": [
    {
     "data": {
      "text/plain": [
       "array([[ 0.  ,  0.  ,  0.75,  0.25,  0.  ,  0.  ,  0.  ,  0.  ,  0.  ,  0.  ]])"
      ]
     },
     "execution_count": 7,
     "metadata": {},
     "output_type": "execute_result"
    }
   ],
   "source": [
    "iga2.N(np.array([0.05]))"
   ]
  },
  {
   "cell_type": "code",
   "execution_count": 8,
   "metadata": {
    "collapsed": false
   },
   "outputs": [
    {
     "data": {
      "image/png": "[encoded data removed]",
      "text/plain": [
       "<matplotlib.figure.Figure at 0x1071eefd0>"
      ]
     },
     "metadata": {},
     "output_type": "display_data"
    }
   ],
   "source": [
    "iga2.N.plot()"
   ]
  },
  {
   "cell_type": "code",
   "execution_count": 9,
   "metadata": {
    "collapsed": false
   },
   "outputs": [
    {
     "data": {
      "text/plain": [
       "array([], shape=(9, 0), dtype=int64)"
      ]
     },
     "execution_count": 9,
     "metadata": {},
     "output_type": "execute_result"
    }
   ],
   "source": [
    "iga2.build_connectivity_array()"
   ]
  },
  {
   "cell_type": "code",
   "execution_count": 10,
   "metadata": {
    "collapsed": false
   },
   "outputs": [
    {
     "ename": "SyntaxError",
     "evalue": "invalid syntax (<ipython-input-10-0a151e98db29>, line 1)",
     "output_type": "error",
     "traceback": [
      "\u001b[0;36m  File \u001b[0;32m\"<ipython-input-10-0a151e98db29>\"\u001b[0;36m, line \u001b[0;32m1\u001b[0m\n\u001b[0;31m    global_index_arr = np.\u001b[0m\n\u001b[0m                          ^\u001b[0m\n\u001b[0;31mSyntaxError\u001b[0m\u001b[0;31m:\u001b[0m invalid syntax\n"
     ]
    }
   ],
   "source": [
    "global_index_arr = np.\n"
   ]
  }
 ],
 "metadata": {
  "kernelspec": {
   "display_name": "Python 2",
   "language": "python",
   "name": "python2"
  },
  "language_info": {
   "codemirror_mode": {
    "name": "ipython",
    "version": 2
   },
   "file_extension": ".py",
   "mimetype": "text/x-python",
   "name": "python",
   "nbconvert_exporter": "python",
   "pygments_lexer": "ipython2",
   "version": "2.7.10"
  }
 },
 "nbformat": 4,
 "nbformat_minor": 0
}
