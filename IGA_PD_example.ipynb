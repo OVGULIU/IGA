{
 "cells": [
  {
   "cell_type": "markdown",
   "metadata": {},
   "source": [
    "This notebook provides an example code for using the IGA2D class"
   ]
  },
  {
   "cell_type": "code",
   "execution_count": 1,
   "metadata": {
    "collapsed": false
   },
   "outputs": [],
   "source": [
    "import IGA\n",
    "import numpy as np\n",
    "import matplotlib.pyplot as plt\n",
    "%matplotlib inline"
   ]
  },
  {
   "cell_type": "code",
   "execution_count": 2,
   "metadata": {
    "collapsed": false
   },
   "outputs": [],
   "source": [
    "def run_case_1(num_knots, order, delta, norm, quad_degree=10):\n",
    "\n",
    "    h = 1.0 / num_knots\n",
    "\n",
    "    if delta > h:\n",
    "        num_boundary_elements = np.ceil(delta / h)\n",
    "    else:\n",
    "        num_boundary_elements = 1\n",
    "\n",
    "    omega_p1 = np.linspace(-delta, 0, num=(num_boundary_elements + 1))\n",
    "    omega = np.linspace(0, 1, num=(num_knots+1))\n",
    "    omega_p2 = np.linspace(1, 1 + delta, num=(num_boundary_elements + 1))\n",
    "\n",
    "    knot_vector = np.r_[-delta * np.ones(order), omega_p1[:-1], omega[:-1], omega_p2, np.ones(order) * (1 + delta)]\n",
    "\n",
    "    iga = IGA.PD1D(knot_vector, order, delta)\n",
    "    iga.degree = quad_degree\n",
    "    \n",
    "    u = lambda x: x * (1 - x)\n",
    "    b = lambda x: np.ones(x.shape[0])\n",
    "\n",
    "    iga.compute_solutions(u, b, num_boundary_elements)\n",
    "    \n",
    "    return iga.compute_error(norm=norm)"
   ]
  },
  {
   "cell_type": "code",
   "execution_count": null,
   "metadata": {
    "collapsed": false
   },
   "outputs": [
    {
     "name": "stdout",
     "output_type": "stream",
     "text": [
      "In [3] used 0.062 MiB RAM in 0.001s, peaked 0.000 MiB above current, total RAM usage 55.547 MiB\n"
     ]
    }
   ],
   "source": [
    "from ipython_memwatcher import MemWatcher\n",
    "\n",
    "mw = MemWatcher()\n",
    "mw.start_watching_memory()"
   ]
  },
  {
   "cell_type": "code",
   "execution_count": null,
   "metadata": {
    "collapsed": false
   },
   "outputs": [],
   "source": [
    "dofs = np.array([100,600])\n",
    "errs = [ run_case_1(num_knots, order=1, delta=0.25, norm=2, quad_degree=4) for num_knots in dofs ]"
   ]
  },
  {
   "cell_type": "code",
   "execution_count": null,
   "metadata": {
    "collapsed": true
   },
   "outputs": [],
   "source": [
    "mw.stop_watching_memory()"
   ]
  },
  {
   "cell_type": "code",
   "execution_count": null,
   "metadata": {
    "collapsed": false
   },
   "outputs": [],
   "source": [
    "#Fit a straight line\n",
    "coefs = np.polyfit(np.log10(1.0 / dofs), np.log10(errs), 1)\n",
    "y = 10 ** (coefs[0] * np.log10(1.0 / dofs) + coefs[1])\n",
    "#Plot\n",
    "plt.loglog(1.0 / dofs, y, 'b-')\n",
    "plt.loglog(1.0 / dofs, errs, 'b^')\n",
    "plt.xlabel(\"$\\log_{10} h$\")\n",
    "plt.ylabel(\"$\\log_{10} \\Vert Error \\Vert_{L_2}$\");"
   ]
  }
 ],
 "metadata": {
  "kernelspec": {
   "display_name": "Python 2",
   "language": "python",
   "name": "python2"
  },
  "language_info": {
   "codemirror_mode": {
    "name": "ipython",
    "version": 2
   },
   "file_extension": ".py",
   "mimetype": "text/x-python",
   "name": "python",
   "nbconvert_exporter": "python",
   "pygments_lexer": "ipython2",
   "version": "2.7.10"
  }
 },
 "nbformat": 4,
 "nbformat_minor": 0
}
