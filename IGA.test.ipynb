{
 "cells": [
  {
   "cell_type": "code",
   "execution_count": 1,
   "metadata": {
    "collapsed": false
   },
   "outputs": [],
   "source": [
    "from IGA import Bspline, NURBS_2D_Shape_Functions, IGA2D\n",
    "import numpy as np\n",
    "%matplotlib inline"
   ]
  },
  {
   "cell_type": "code",
   "execution_count": 2,
   "metadata": {
    "collapsed": false
   },
   "outputs": [],
   "source": [
    "knot_vector1 = [0, 0, 0.5, 1, 1]\n",
    "knot_vector2 = [0, 0, 0.5, 1, 1]\n",
    "\n",
    "weights = np.array([0.5, 0.5, 0.5])\n",
    "\n",
    "test = IGA2D(knot_vector1, 1, knot_vector2, 1, weights)\n",
    "\n",
    "test.compute_jacobian_matrix_and_inverse(np.array([0.2,0.5]), np.array([0.2,0.5]))"
   ]
  },
  {
   "cell_type": "code",
   "execution_count": null,
   "metadata": {
    "collapsed": true
   },
   "outputs": [],
   "source": []
  }
 ],
 "metadata": {
  "kernelspec": {
   "display_name": "Python 2",
   "language": "python",
   "name": "python2"
  },
  "language_info": {
   "codemirror_mode": {
    "name": "ipython",
    "version": 2
   },
   "file_extension": ".py",
   "mimetype": "text/x-python",
   "name": "python",
   "nbconvert_exporter": "python",
   "pygments_lexer": "ipython2",
   "version": "2.7.10"
  }
 },
 "nbformat": 4,
 "nbformat_minor": 0
}
