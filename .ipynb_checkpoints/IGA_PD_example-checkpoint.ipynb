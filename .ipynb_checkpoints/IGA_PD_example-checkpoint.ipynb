{
 "cells": [
  {
   "cell_type": "code",
   "execution_count": 5,
   "metadata": {
    "collapsed": false
   },
   "outputs": [],
   "source": [
    "import IGA\n",
    "import numpy as np\n",
    "import matplotlib.pyplot as plt\n",
    "%matplotlib inline"
   ]
  },
  {
   "cell_type": "code",
   "execution_count": 6,
   "metadata": {
    "collapsed": true
   },
   "outputs": [],
   "source": [
    "def create_knot_vector(num_knots, p, delta, midpoint_interp=True):\n",
    "\n",
    "    h = 1.0 / num_knots\n",
    "\n",
    "    if delta > h:\n",
    "        num_boundary_elements = np.ceil(delta / h)\n",
    "    else:\n",
    "        num_boundary_elements = 1\n",
    "\n",
    "    x1 = np.linspace(-delta, 0, num=num_boundary_elements, endpoint=False)\n",
    "    x2 = np.linspace(1, 1 + delta, num=num_boundary_elements + 1)\n",
    "    omega_p1 = np.r_[ -delta, (np.ones((x1.shape[0],p)) * x1[:,None]).ravel()]\n",
    "    omega_p2 = np.r_[(np.ones((x2.shape[0],p)) * x2[:,None]).ravel(), 1 + delta]\n",
    "    \n",
    "    \n",
    "    omega1a = np.zeros(p-1)\n",
    "    omega1b = np.linspace(0, 0.5, num=np.int(np.ceil(num_knots / 2)), endpoint=False)\n",
    "    if midpoint_interp:\n",
    "        omega1c = np.ones(p+1) * 0.5\n",
    "        omega2a = np.linspace(0.5, 1.0, num=np.int(np.ceil(num_knots / 2)), endpoint=False)\n",
    "    else:\n",
    "        omega1c = np.ones(1) * 0.5\n",
    "        omega2a = np.linspace(0.5, 1.0, num=np.int(np.ceil(num_knots / 2)), endpoint=False)\n",
    "    \n",
    "    return (np.r_[omega_p1, omega1a, omega1b, omega1c, omega2a[1:], omega_p2], num_boundary_elements)"
   ]
  },
  {
   "cell_type": "code",
   "execution_count": 7,
   "metadata": {
    "collapsed": false
   },
   "outputs": [],
   "source": [
    "def run_case_1(num_knots, order, delta, norm, quad_degree=10):\n",
    "\n",
    "    knot_vector, num_boundary_elements = create_knot_vector(num_knots, order, delta, midpoint_interp=False)\n",
    "\n",
    "    iga = IGA.PD1D(knot_vector, order, delta)\n",
    "    iga.degree = quad_degree\n",
    "    \n",
    "    u = lambda x: x * (1 - x)\n",
    "    b = lambda x: np.ones(x.shape[0])\n",
    "\n",
    "    iga.compute_solutions(u, b, num_boundary_elements)\n",
    "    \n",
    "    return iga.compute_error(norm=norm)\n",
    "\n",
    "\n",
    "def run_case_2(num_knots, order, delta, norm, quad_degree=10):\n",
    "\n",
    "    knot_vector, num_boundary_elements = create_knot_vector(num_knots, order, delta)\n",
    "\n",
    "    iga = IGA.PD1D(knot_vector, order, delta)\n",
    "    iga.degree = quad_degree\n",
    "    \n",
    "    def ue(x):\n",
    "        return np.where(x < 0.5, x, x * x)\n",
    "\n",
    "    def be(x):\n",
    "        cond1a = 0 <= x \n",
    "        cond1b = x < 0.5 - delta\n",
    "        cond2a = 0.5 - delta <= x\n",
    "        cond2b = x < 0.5\n",
    "        cond3a = 0.5 < x\n",
    "        cond3b = x < 0.5 + delta\n",
    "        cond4a = 0.5 + delta <= x\n",
    "        cond4b = x <= 1.0\n",
    "        \n",
    "        I1val = 0.0\n",
    "        I2val = -1.0 / delta ** 2. * (0.5 * delta ** 2. - delta + 3. / 8. +\n",
    "                    (2. * delta - 3. / 2. - np.log(delta)) * x + (3. / 2. + np.log(delta)) * x ** 2.\n",
    "                    - (x ** 2. - x) * np.log(1. / 2. - x))\n",
    "                                        \n",
    "        I3val = -1.0 / delta ** 2. * (0.5 * delta ** 2. - delta - 3. / 8. +\n",
    "                    (2. * delta + 3. / 2. + np.log(delta)) * x - (3. / 2. + np.log(delta)) * x ** 2.\n",
    "                    + (x ** 2. - x) * np.log(x - 1. / 2.))\n",
    "        I4val = -1.0\n",
    "        \n",
    "        temp1 = np.where(cond1a & cond1b, I1val, x)\n",
    "        temp2 = np.where(cond2a & cond2b, I2val, temp1)\n",
    "        temp3 = np.where(cond3a & cond3b, I3val, temp2)\n",
    "        return np.where(cond4a & cond4b, I4val, temp3)\n",
    "\n",
    "    iga.compute_solutions(ue, be, num_boundary_elements)\n",
    "    \n",
    "    return iga.compute_error(norm=norm)"
   ]
  },
  {
   "cell_type": "code",
   "execution_count": 8,
   "metadata": {
    "collapsed": false
   },
   "outputs": [
    {
     "ename": "LinAlgError",
     "evalue": "Singular matrix",
     "output_type": "error",
     "traceback": [
      "\u001b[0;31m---------------------------------------------------------------------------\u001b[0m",
      "\u001b[0;31mLinAlgError\u001b[0m                               Traceback (most recent call last)",
      "\u001b[0;32m<ipython-input-8-cd398c312d15>\u001b[0m in \u001b[0;36m<module>\u001b[0;34m()\u001b[0m\n\u001b[1;32m      1\u001b[0m \u001b[0mdofs1\u001b[0m \u001b[0;34m=\u001b[0m \u001b[0mnp\u001b[0m\u001b[0;34m.\u001b[0m\u001b[0marray\u001b[0m\u001b[0;34m(\u001b[0m\u001b[0;34m[\u001b[0m\u001b[0;36m10\u001b[0m\u001b[0;34m,\u001b[0m\u001b[0;36m50\u001b[0m\u001b[0;34m,\u001b[0m\u001b[0;36m100\u001b[0m\u001b[0;34m,\u001b[0m\u001b[0;36m200\u001b[0m\u001b[0;34m]\u001b[0m\u001b[0;34m)\u001b[0m\u001b[0;34m;\u001b[0m\u001b[0;34m\u001b[0m\u001b[0m\n\u001b[0;32m----> 2\u001b[0;31m \u001b[0merrs1\u001b[0m \u001b[0;34m=\u001b[0m \u001b[0;34m[\u001b[0m \u001b[0mrun_case_1\u001b[0m\u001b[0;34m(\u001b[0m\u001b[0mnum_knots\u001b[0m\u001b[0;34m,\u001b[0m \u001b[0morder\u001b[0m\u001b[0;34m=\u001b[0m\u001b[0;36m1\u001b[0m\u001b[0;34m,\u001b[0m \u001b[0mdelta\u001b[0m\u001b[0;34m=\u001b[0m\u001b[0;36m0.1\u001b[0m\u001b[0;34m,\u001b[0m \u001b[0mnorm\u001b[0m\u001b[0;34m=\u001b[0m\u001b[0;36m2\u001b[0m\u001b[0;34m,\u001b[0m \u001b[0mquad_degree\u001b[0m\u001b[0;34m=\u001b[0m\u001b[0;36m20\u001b[0m\u001b[0;34m)\u001b[0m \u001b[0;32mfor\u001b[0m \u001b[0mnum_knots\u001b[0m \u001b[0;32min\u001b[0m \u001b[0mdofs1\u001b[0m \u001b[0;34m]\u001b[0m\u001b[0;34m;\u001b[0m\u001b[0;34m\u001b[0m\u001b[0m\n\u001b[0m",
      "\u001b[0;32m<ipython-input-8-cd398c312d15>\u001b[0m in \u001b[0;36m<listcomp>\u001b[0;34m(.0)\u001b[0m\n\u001b[1;32m      1\u001b[0m \u001b[0mdofs1\u001b[0m \u001b[0;34m=\u001b[0m \u001b[0mnp\u001b[0m\u001b[0;34m.\u001b[0m\u001b[0marray\u001b[0m\u001b[0;34m(\u001b[0m\u001b[0;34m[\u001b[0m\u001b[0;36m10\u001b[0m\u001b[0;34m,\u001b[0m\u001b[0;36m50\u001b[0m\u001b[0;34m,\u001b[0m\u001b[0;36m100\u001b[0m\u001b[0;34m,\u001b[0m\u001b[0;36m200\u001b[0m\u001b[0;34m]\u001b[0m\u001b[0;34m)\u001b[0m\u001b[0;34m;\u001b[0m\u001b[0;34m\u001b[0m\u001b[0m\n\u001b[0;32m----> 2\u001b[0;31m \u001b[0merrs1\u001b[0m \u001b[0;34m=\u001b[0m \u001b[0;34m[\u001b[0m \u001b[0mrun_case_1\u001b[0m\u001b[0;34m(\u001b[0m\u001b[0mnum_knots\u001b[0m\u001b[0;34m,\u001b[0m \u001b[0morder\u001b[0m\u001b[0;34m=\u001b[0m\u001b[0;36m1\u001b[0m\u001b[0;34m,\u001b[0m \u001b[0mdelta\u001b[0m\u001b[0;34m=\u001b[0m\u001b[0;36m0.1\u001b[0m\u001b[0;34m,\u001b[0m \u001b[0mnorm\u001b[0m\u001b[0;34m=\u001b[0m\u001b[0;36m2\u001b[0m\u001b[0;34m,\u001b[0m \u001b[0mquad_degree\u001b[0m\u001b[0;34m=\u001b[0m\u001b[0;36m20\u001b[0m\u001b[0;34m)\u001b[0m \u001b[0;32mfor\u001b[0m \u001b[0mnum_knots\u001b[0m \u001b[0;32min\u001b[0m \u001b[0mdofs1\u001b[0m \u001b[0;34m]\u001b[0m\u001b[0;34m;\u001b[0m\u001b[0;34m\u001b[0m\u001b[0m\n\u001b[0m",
      "\u001b[0;32m<ipython-input-7-b0135c798dfb>\u001b[0m in \u001b[0;36mrun_case_1\u001b[0;34m(num_knots, order, delta, norm, quad_degree)\u001b[0m\n\u001b[1;32m      9\u001b[0m     \u001b[0mb\u001b[0m \u001b[0;34m=\u001b[0m \u001b[0;32mlambda\u001b[0m \u001b[0mx\u001b[0m\u001b[0;34m:\u001b[0m \u001b[0mnp\u001b[0m\u001b[0;34m.\u001b[0m\u001b[0mones\u001b[0m\u001b[0;34m(\u001b[0m\u001b[0mx\u001b[0m\u001b[0;34m.\u001b[0m\u001b[0mshape\u001b[0m\u001b[0;34m[\u001b[0m\u001b[0;36m0\u001b[0m\u001b[0;34m]\u001b[0m\u001b[0;34m)\u001b[0m\u001b[0;34m\u001b[0m\u001b[0m\n\u001b[1;32m     10\u001b[0m \u001b[0;34m\u001b[0m\u001b[0m\n\u001b[0;32m---> 11\u001b[0;31m     \u001b[0miga\u001b[0m\u001b[0;34m.\u001b[0m\u001b[0mcompute_solutions\u001b[0m\u001b[0;34m(\u001b[0m\u001b[0mu\u001b[0m\u001b[0;34m,\u001b[0m \u001b[0mb\u001b[0m\u001b[0;34m,\u001b[0m \u001b[0mnum_boundary_elements\u001b[0m\u001b[0;34m)\u001b[0m\u001b[0;34m\u001b[0m\u001b[0m\n\u001b[0m\u001b[1;32m     12\u001b[0m \u001b[0;34m\u001b[0m\u001b[0m\n\u001b[1;32m     13\u001b[0m     \u001b[0;32mreturn\u001b[0m \u001b[0miga\u001b[0m\u001b[0;34m.\u001b[0m\u001b[0mcompute_error\u001b[0m\u001b[0;34m(\u001b[0m\u001b[0mnorm\u001b[0m\u001b[0;34m=\u001b[0m\u001b[0mnorm\u001b[0m\u001b[0;34m)\u001b[0m\u001b[0;34m\u001b[0m\u001b[0m\n",
      "\u001b[0;32m/Users/john/projects/Python/IGA/IGA.py\u001b[0m in \u001b[0;36mcompute_solutions\u001b[0;34m(self, u, b, num_boundary_elements)\u001b[0m\n\u001b[1;32m    638\u001b[0m     \u001b[0;32mdef\u001b[0m \u001b[0mcompute_solutions\u001b[0m\u001b[0;34m(\u001b[0m\u001b[0mself\u001b[0m\u001b[0;34m,\u001b[0m \u001b[0mu\u001b[0m\u001b[0;34m,\u001b[0m \u001b[0mb\u001b[0m\u001b[0;34m,\u001b[0m \u001b[0mnum_boundary_elements\u001b[0m\u001b[0;34m)\u001b[0m\u001b[0;34m:\u001b[0m\u001b[0;34m\u001b[0m\u001b[0m\n\u001b[1;32m    639\u001b[0m \u001b[0;34m\u001b[0m\u001b[0m\n\u001b[0;32m--> 640\u001b[0;31m         \u001b[0mself\u001b[0m\u001b[0;34m.\u001b[0m\u001b[0mmanufacture_solution\u001b[0m\u001b[0;34m(\u001b[0m\u001b[0mu\u001b[0m\u001b[0;34m,\u001b[0m \u001b[0mnum_boundary_elements\u001b[0m\u001b[0;34m)\u001b[0m\u001b[0;34m\u001b[0m\u001b[0m\n\u001b[0m\u001b[1;32m    641\u001b[0m         \u001b[0mself\u001b[0m\u001b[0;34m.\u001b[0m\u001b[0mcompute_rhs\u001b[0m\u001b[0;34m(\u001b[0m\u001b[0mu\u001b[0m\u001b[0;34m,\u001b[0m \u001b[0mb\u001b[0m\u001b[0;34m,\u001b[0m \u001b[0mnum_boundary_elements\u001b[0m\u001b[0;34m)\u001b[0m\u001b[0;34m\u001b[0m\u001b[0m\n\u001b[1;32m    642\u001b[0m \u001b[0;34m\u001b[0m\u001b[0m\n",
      "\u001b[0;32m/Users/john/projects/Python/IGA/IGA.py\u001b[0m in \u001b[0;36mmanufacture_solution\u001b[0;34m(self, ufun, num_boundary_elements)\u001b[0m\n\u001b[1;32m    607\u001b[0m \u001b[0;34m\u001b[0m\u001b[0m\n\u001b[1;32m    608\u001b[0m         \u001b[0;31m#Manufacture control variables\u001b[0m\u001b[0;34m\u001b[0m\u001b[0;34m\u001b[0m\u001b[0m\n\u001b[0;32m--> 609\u001b[0;31m         \u001b[0md\u001b[0m \u001b[0;34m=\u001b[0m \u001b[0mnp\u001b[0m\u001b[0;34m.\u001b[0m\u001b[0mdot\u001b[0m\u001b[0;34m(\u001b[0m\u001b[0mnp\u001b[0m\u001b[0;34m.\u001b[0m\u001b[0mlinalg\u001b[0m\u001b[0;34m.\u001b[0m\u001b[0minv\u001b[0m\u001b[0;34m(\u001b[0m\u001b[0mNN\u001b[0m\u001b[0;34m)\u001b[0m\u001b[0;34m,\u001b[0m \u001b[0mufun\u001b[0m\u001b[0;34m(\u001b[0m\u001b[0mx\u001b[0m\u001b[0;34m)\u001b[0m\u001b[0;34m)\u001b[0m\u001b[0;34m\u001b[0m\u001b[0m\n\u001b[0m\u001b[1;32m    610\u001b[0m \u001b[0;34m\u001b[0m\u001b[0m\n\u001b[1;32m    611\u001b[0m         \u001b[0;31m#Manufacture solution\u001b[0m\u001b[0;34m\u001b[0m\u001b[0;34m\u001b[0m\u001b[0m\n",
      "\u001b[0;32m/Users/john/.virtualenvs/IGA/lib/python3.5/site-packages/numpy/linalg/linalg.py\u001b[0m in \u001b[0;36minv\u001b[0;34m(a)\u001b[0m\n\u001b[1;32m    524\u001b[0m     \u001b[0msignature\u001b[0m \u001b[0;34m=\u001b[0m \u001b[0;34m'D->D'\u001b[0m \u001b[0;32mif\u001b[0m \u001b[0misComplexType\u001b[0m\u001b[0;34m(\u001b[0m\u001b[0mt\u001b[0m\u001b[0;34m)\u001b[0m \u001b[0;32melse\u001b[0m \u001b[0;34m'd->d'\u001b[0m\u001b[0;34m\u001b[0m\u001b[0m\n\u001b[1;32m    525\u001b[0m     \u001b[0mextobj\u001b[0m \u001b[0;34m=\u001b[0m \u001b[0mget_linalg_error_extobj\u001b[0m\u001b[0;34m(\u001b[0m\u001b[0m_raise_linalgerror_singular\u001b[0m\u001b[0;34m)\u001b[0m\u001b[0;34m\u001b[0m\u001b[0m\n\u001b[0;32m--> 526\u001b[0;31m     \u001b[0mainv\u001b[0m \u001b[0;34m=\u001b[0m \u001b[0m_umath_linalg\u001b[0m\u001b[0;34m.\u001b[0m\u001b[0minv\u001b[0m\u001b[0;34m(\u001b[0m\u001b[0ma\u001b[0m\u001b[0;34m,\u001b[0m \u001b[0msignature\u001b[0m\u001b[0;34m=\u001b[0m\u001b[0msignature\u001b[0m\u001b[0;34m,\u001b[0m \u001b[0mextobj\u001b[0m\u001b[0;34m=\u001b[0m\u001b[0mextobj\u001b[0m\u001b[0;34m)\u001b[0m\u001b[0;34m\u001b[0m\u001b[0m\n\u001b[0m\u001b[1;32m    527\u001b[0m     \u001b[0;32mreturn\u001b[0m \u001b[0mwrap\u001b[0m\u001b[0;34m(\u001b[0m\u001b[0mainv\u001b[0m\u001b[0;34m.\u001b[0m\u001b[0mastype\u001b[0m\u001b[0;34m(\u001b[0m\u001b[0mresult_t\u001b[0m\u001b[0;34m,\u001b[0m \u001b[0mcopy\u001b[0m\u001b[0;34m=\u001b[0m\u001b[0;32mFalse\u001b[0m\u001b[0;34m)\u001b[0m\u001b[0;34m)\u001b[0m\u001b[0;34m\u001b[0m\u001b[0m\n\u001b[1;32m    528\u001b[0m \u001b[0;34m\u001b[0m\u001b[0m\n",
      "\u001b[0;32m/Users/john/.virtualenvs/IGA/lib/python3.5/site-packages/numpy/linalg/linalg.py\u001b[0m in \u001b[0;36m_raise_linalgerror_singular\u001b[0;34m(err, flag)\u001b[0m\n\u001b[1;32m     88\u001b[0m \u001b[0;34m\u001b[0m\u001b[0m\n\u001b[1;32m     89\u001b[0m \u001b[0;32mdef\u001b[0m \u001b[0m_raise_linalgerror_singular\u001b[0m\u001b[0;34m(\u001b[0m\u001b[0merr\u001b[0m\u001b[0;34m,\u001b[0m \u001b[0mflag\u001b[0m\u001b[0;34m)\u001b[0m\u001b[0;34m:\u001b[0m\u001b[0;34m\u001b[0m\u001b[0m\n\u001b[0;32m---> 90\u001b[0;31m     \u001b[0;32mraise\u001b[0m \u001b[0mLinAlgError\u001b[0m\u001b[0;34m(\u001b[0m\u001b[0;34m\"Singular matrix\"\u001b[0m\u001b[0;34m)\u001b[0m\u001b[0;34m\u001b[0m\u001b[0m\n\u001b[0m\u001b[1;32m     91\u001b[0m \u001b[0;34m\u001b[0m\u001b[0m\n\u001b[1;32m     92\u001b[0m \u001b[0;32mdef\u001b[0m \u001b[0m_raise_linalgerror_nonposdef\u001b[0m\u001b[0;34m(\u001b[0m\u001b[0merr\u001b[0m\u001b[0;34m,\u001b[0m \u001b[0mflag\u001b[0m\u001b[0;34m)\u001b[0m\u001b[0;34m:\u001b[0m\u001b[0;34m\u001b[0m\u001b[0m\n",
      "\u001b[0;31mLinAlgError\u001b[0m: Singular matrix"
     ]
    }
   ],
   "source": [
    "dofs1 = np.array([10,50,100,200]);\n",
    "errs1 = [ run_case_1(num_knots, order=1, delta=0.1, norm=2, quad_degree=20) for num_knots in dofs1 ];"
   ]
  },
  {
   "cell_type": "code",
   "execution_count": 28,
   "metadata": {
    "collapsed": false
   },
   "outputs": [
    {
     "data": {
      "image/png": "[encoded data removed]",
      "text/plain": [
       "<matplotlib.figure.Figure at 0x1079fa518>"
      ]
     },
     "metadata": {},
     "output_type": "display_data"
    }
   ],
   "source": [
    "#Fit a straight line\n",
    "#coefs1 = np.polyfit(np.log10(1.0 / dofs1), np.log10(errs1), 1)\n",
    "#y1 = 10 ** (coefs1[0] * np.log10(1.0 / dofs1) + coefs1[1])\n",
    "#Plot\n",
    "plt.loglog(dofs1, errs1, 'b-')\n",
    "plt.loglog(dofs1, errs1, 'b^')\n",
    "plt.xlabel(\"$\\log_{10} N$\")\n",
    "plt.ylabel(\"$\\log_{10} \\Vert u - u^h \\Vert_{L_2}$\");\n",
    "plt.xlim([1, 1000])\n",
    "plt.grid()"
   ]
  },
  {
   "cell_type": "code",
   "execution_count": 37,
   "metadata": {
    "collapsed": false
   },
   "outputs": [
    {
     "name": "stderr",
     "output_type": "stream",
     "text": [
      "-c:39: RuntimeWarning: divide by zero encountered in log\n",
      "-c:39: RuntimeWarning: invalid value encountered in log\n",
      "-c:43: RuntimeWarning: divide by zero encountered in log\n",
      "-c:43: RuntimeWarning: invalid value encountered in log\n"
     ]
    }
   ],
   "source": [
    "dofs2 = np.array([10,50,100,200]);\n",
    "errs2 = [ run_case_2(num_knots, order=1, delta=0.5, norm=2, quad_degree=12) for num_knots in dofs2 ];"
   ]
  },
  {
   "cell_type": "code",
   "execution_count": 38,
   "metadata": {
    "collapsed": false
   },
   "outputs": [
    {
     "data": {
      "image/png": "[encoded data removed]",
      "text/plain": [
       "<matplotlib.figure.Figure at 0x107a2d2e8>"
      ]
     },
     "metadata": {},
     "output_type": "display_data"
    }
   ],
   "source": [
    "#Fit a straight line\n",
    "plt.loglog(dofs2, errs2, 'b-')\n",
    "plt.loglog(dofs2, errs2, 'b^')\n",
    "plt.xlabel(\"$\\log_{10} N$\")\n",
    "plt.ylabel(\"$\\log_{10} \\Vert u - u^h \\Vert_{L_2}$\");\n",
    "plt.xlim([1, 1000])\n",
    "plt.grid()"
   ]
  },
  {
   "cell_type": "code",
   "execution_count": 40,
   "metadata": {
    "collapsed": false
   },
   "outputs": [
    {
     "data": {
      "image/png": "[encoded data removed]",
      "text/plain": [
       "<matplotlib.figure.Figure at 0x107d2d860>"
      ]
     },
     "metadata": {},
     "output_type": "display_data"
    }
   ],
   "source": [
    "def u(x):\n",
    "    return np.where(x < 0.5, x, x * x)\n",
    "\n",
    "def b(x):\n",
    "        delta = 0.3\n",
    "        cond1a = 0 <= x \n",
    "        cond1b = x < 0.5 - delta\n",
    "        cond2a = 0.5 - delta <= x\n",
    "        cond2b = x < 0.5\n",
    "        cond3a = 0.5 < x\n",
    "        cond3b = x < 0.5 + delta\n",
    "        cond4a = 0.5 + delta <= x\n",
    "        cond4b = x <= 1.0\n",
    "        \n",
    "        I1val = 0.0\n",
    "        I2val = -1.0 / delta ** 2. * (0.5 * delta ** 2. - delta + 3. / 8. +\n",
    "                    (2. * delta - 3. / 2. - np.log(delta)) * x + (3. / 2. + np.log(delta)) * x ** 2.\n",
    "                    - (x ** 2. - x) * np.log(1. / 2. - x))\n",
    "                                        \n",
    "        I3val = -1.0 / delta ** 2. * (0.5 * delta ** 2. - delta - 3. / 8. +\n",
    "                    (2. * delta + 3. / 2. + np.log(delta)) * x - (3. / 2. + np.log(delta)) * x ** 2.\n",
    "                    + (x ** 2. - x) * np.log(x - 1. / 2.))\n",
    "        I4val = -1.0\n",
    "        \n",
    "        temp1 = np.where(cond1a & cond1b, I1val, x)\n",
    "        temp2 = np.where(cond2a & cond2b, I2val, temp1)\n",
    "        temp3 = np.where(cond3a & cond3b, I3val, temp2)\n",
    "        return np.where(cond4a & cond4b, I4val, temp3)\n",
    "    \n",
    "x1 = np.linspace(0,0.5,num=5000,endpoint=False)\n",
    "x2 = np.linspace(0.5,1.0,num=5000)\n",
    "plt.plot(x1,u(x1), 'b-', x2[1:],u(x2[1:]),'b-');"
   ]
  },
  {
   "cell_type": "code",
   "execution_count": 41,
   "metadata": {
    "collapsed": false
   },
   "outputs": [
    {
     "name": "stderr",
     "output_type": "stream",
     "text": [
      "-c:22: RuntimeWarning: invalid value encountered in log\n",
      "-c:18: RuntimeWarning: invalid value encountered in log\n"
     ]
    },
    {
     "data": {
      "image/png": "[encoded data removed]",
      "text/plain": [
       "<matplotlib.figure.Figure at 0x108065f98>"
      ]
     },
     "metadata": {},
     "output_type": "display_data"
    }
   ],
   "source": [
    "plt.plot(x1,b(x1), 'b-', x2[1:],b(x2[1:]),'b-');"
   ]
  },
  {
   "cell_type": "code",
   "execution_count": null,
   "metadata": {
    "collapsed": true
   },
   "outputs": [],
   "source": []
  }
 ],
 "metadata": {
  "kernelspec": {
   "display_name": "Python 3",
   "language": "python",
   "name": "python3"
  },
  "language_info": {
   "codemirror_mode": {
    "name": "ipython",
    "version": 3
   },
   "file_extension": ".py",
   "mimetype": "text/x-python",
   "name": "python",
   "nbconvert_exporter": "python",
   "pygments_lexer": "ipython3",
   "version": "3.5.0"
  }
 },
 "nbformat": 4,
 "nbformat_minor": 0
}
